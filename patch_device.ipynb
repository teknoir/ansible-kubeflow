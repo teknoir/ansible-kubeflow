{
 "cells": [
  {
   "cell_type": "markdown",
   "metadata": {
    "pycharm": {
     "name": "#%% md\n"
    }
   },
   "source": [
    "# Device patch base\n",
    "A Kubeflow pipeline running Ansible playbook from a git repo on a subset of devices\n",
    "\n",
    "This Notebook is meant to run in a Notebook Server on the Teknoir platform"
   ]
  },
  {
   "cell_type": "markdown",
   "metadata": {
    "pycharm": {
     "name": "#%% md\n"
    }
   },
   "source": [
    "## Define the pipeline"
   ]
  },
  {
   "cell_type": "code",
   "execution_count": 2,
   "metadata": {
    "pycharm": {
     "name": "#%%\n"
    }
   },
   "outputs": [],
   "source": [
    "import kfp\n",
    "import kfp.dsl as dsl\n",
    "import uuid\n",
    "import os\n",
    "import json\n",
    "from kubernetes.client.models import V1EnvVar\n",
    "\n",
    "project_id = os.getenv('PROJECT_ID', 'teknoir')\n",
    "domain = os.getenv('DOMAIN', 'teknoir.cloud')\n",
    "namespace = os.getenv('NAMESPACE', 'teknoir-ai')\n",
    "\n",
    "pipeline_name='Patch device'\n",
    "pipeline_description='A Kubeflow pipeline running Ansible playbook from a git repo on a subset of devices'\n",
    "    \n",
    "@dsl.pipeline(name=pipeline_name, description=pipeline_description)\n",
    "def ansible_pipeline(playbook_repo, playbook_path, ansible_limit):\n",
    "    \"\"\"A pipeline to run arbitrary playbook from a public git repo.\"\"\"\n",
    "\n",
    "    volume_name = f\"device-patch-{str(uuid.uuid4())[:6]}\"\n",
    "    mount_folder = \"/workspace\"\n",
    "\n",
    "    # A working directory between steps\n",
    "    wkdirop = dsl.VolumeOp(\n",
    "        name=f'Create build workspace',\n",
    "        resource_name=volume_name,\n",
    "        size=\"500Mi\",\n",
    "        modes=dsl.VOLUME_MODE_RWO\n",
    "    ).set_caching_options(False)\n",
    "\n",
    "    playbook = dsl.ContainerOp(\n",
    "        name=\"Clone Workspace\",\n",
    "        image=\"gcr.io/teknoir/edgebuild\",\n",
    "        command=[\"bash\", \"-c\"],\n",
    "        arguments=[f\"\"\"\n",
    "set -eo pipefail\n",
    "git clone git@github.com:teknoir/device-patch-base.git {mount_folder}\n",
    "cd {mount_folder}\n",
    "ls\n",
    "./run_playbook.sh --repo {playbook_repo} --playbook {playbook_path} --limit {ansible_limit}\n",
    "\"\"\"],\n",
    "        pvolumes={mount_folder: wkdirop.volume}\n",
    "    )\n",
    "\n",
    "    playbook.execution_options.caching_strategy.max_cache_staleness = \"P0D\"\n",
    "\n",
    "    \n"
   ]
  },
  {
   "cell_type": "markdown",
   "metadata": {
    "pycharm": {
     "name": "#%% md\n"
    }
   },
   "source": [
    "## Upload pipeline"
   ]
  },
  {
   "cell_type": "code",
   "execution_count": 3,
   "metadata": {
    "pycharm": {
     "name": "#%%\n"
    }
   },
   "outputs": [
    {
     "name": "stderr",
     "output_type": "stream",
     "text": [
      "ERROR:root:Failed to read a token from file '/var/run/secrets/kubeflow/pipelines/token' ([Errno 2] No such file or directory: '/var/run/secrets/kubeflow/pipelines/token').\n",
      "WARNING:root:Failed to set up default credentials. Proceeding without credentials...\n",
      "/opt/conda/lib/python3.8/site-packages/kfp/dsl/_container_op.py:1195: FutureWarning: Please create reusable components instead of constructing ContainerOp instances directly. Reusable components are shareable, portable and have compatibility and support guarantees. Please see the documentation: https://www.kubeflow.org/docs/pipelines/sdk/component-development/#writing-your-component-definition-file The components can be created manually (or, in case of python, using kfp.components.create_component_from_func or func_to_container_op) and then loaded using kfp.components.load_component_from_file, load_component_from_uri or load_component_from_text: https://kubeflow-pipelines.readthedocs.io/en/stable/source/kfp.components.html#kfp.components.load_component_from_file\n",
      "  warnings.warn(\n"
     ]
    },
    {
     "data": {
      "text/html": [
       "<a href=/pipeline/#/pipelines/details/35c9ebb4-bb34-4551-a137-239f2bd92a91>Pipeline details</a>."
      ],
      "text/plain": [
       "<IPython.core.display.HTML object>"
      ]
     },
     "metadata": {},
     "output_type": "display_data"
    },
    {
     "data": {
      "text/html": [
       "<a href=\"/pipeline/#/experiments/details/b0862ea8-fc98-4d8a-adb5-47720e53514b\" target=\"_blank\" >Experiment details</a>."
      ],
      "text/plain": [
       "<IPython.core.display.HTML object>"
      ]
     },
     "metadata": {},
     "output_type": "display_data"
    },
    {
     "data": {
      "text/html": [
       "<a href=\"/pipeline/#/runs/details/13c0be29-c3d6-4a8a-864e-b27c2f536427\" target=\"_blank\" >Run details</a>."
      ],
      "text/plain": [
       "<IPython.core.display.HTML object>"
      ]
     },
     "metadata": {},
     "output_type": "display_data"
    }
   ],
   "source": [
    "pipeline_version_file = pipeline_file = 'components/device_patch.yaml'\n",
    "\n",
    "client = kfp.Client(namespace='teknoir')\n",
    "filter = json.dumps({'predicates': [{'key': 'name', 'op': 1, 'string_value': pipeline_name}]})\n",
    "pipelines = client.pipelines.list_pipelines(filter=filter)\n",
    "\n",
    "if not pipelines.pipelines:\n",
    "    pipeline = client.pipeline_uploads.upload_pipeline(pipeline_file, name=pipeline_name, description=pipeline_description)\n",
    "else:\n",
    "    pipeline_version_name = pipeline_name + f' - {str(uuid.uuid4())[:6]}'\n",
    "    pipeline_version = client.pipeline_uploads.upload_pipeline_version(pipeline_version_file,\n",
    "                                                                       name=pipeline_version_name,\n",
    "                                                                       pipelineid=pipelines.pipelines[0].id)"
   ]
  },
  {
   "cell_type": "code",
   "execution_count": null,
   "metadata": {
    "pycharm": {
     "name": "#%%\n"
    }
   },
   "outputs": [],
   "source": []
  },
  {
   "cell_type": "code",
   "execution_count": null,
   "metadata": {
    "pycharm": {
     "name": "#%%\n"
    }
   },
   "outputs": [],
   "source": []
  }
 ],
 "metadata": {
  "kernelspec": {
   "display_name": "Python 3 (ipykernel)",
   "language": "python",
   "name": "python3"
  },
  "language_info": {
   "codemirror_mode": {
    "name": "ipython",
    "version": 3
   },
   "file_extension": ".py",
   "mimetype": "text/x-python",
   "name": "python",
   "nbconvert_exporter": "python",
   "pygments_lexer": "ipython3",
   "version": "3.10.5"
  }
 },
 "nbformat": 4,
 "nbformat_minor": 4
}